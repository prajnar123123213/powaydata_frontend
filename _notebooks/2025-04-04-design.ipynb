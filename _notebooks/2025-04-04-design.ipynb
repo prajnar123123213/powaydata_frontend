{
 "cells": [
  {
   "cell_type": "raw",
   "metadata": {},
   "source": [
    "---\n",
    "layout: post\n",
    "categories: [Ideation]\n",
    "title: Design Plans\n",
    "description: Figma and feature design or creation\n",
    "permalink: /design/\n",
    "courses: { csp: {week: 1} }\n",
    "comments: true\n",
    "sticky_rank: 1\n",
    "---"
   ]
  },
  {
   "cell_type": "markdown",
   "metadata": {},
   "source": [
    "<h1> Figma </h1>\n",
    "\n",
    "<div class=\"text-center mt-16\">\n",
    "  <a href=\"https://www.figma.com/design/EXQRumBTNNPweBPgzqhpXD/Pilot-City-Planning?node-id=0-1&p=f&t=BpRP4yq5R2ATeypX-0\" \n",
    "     target=\"_blank\">\n",
    "     View Our Original Figma Design\n",
    "  </a>\n",
    "</div>\n",
    "\n",
    "\n",
    "<h3> Our Plan </h3>\n",
    "\n",
    "- For our main index.md page, we wanted to guide users into our website by using different colors, animations, and visuals. We decided to use a general green pallete that we maintain throughout the website so that it follows the general Poway colors. \n",
    "\n",
    "<img width=\"540\" alt=\"Image\" src=\"{{site.baseurl}}/images/figma1.png\"/>\n",
    "\n",
    "- We have all the important/ main features of our page linked right on the front so that users can easily navigate. The little dashed lines at the top will be transformed into our main nav bar using GitHub pages. \n",
    "\n",
    "<br>\n",
    "\n",
    "- As for our actual features: \n",
    "    1. Community Insight\n",
    "    2. Tourist Attractions\n",
    "    3. Event Calendar \n",
    "    4. Live Activity/ Weather Tracker. \n",
    "\n",
    "<br>\n",
    "\n",
    "1. **Community Insight**\n",
    "    - Since PilotCity expected us to increase community engagment by over 30%, we wanted to include a feautre that would allow differenet users to engage and communicate with each other. Our community Insight feature would allow users to leave reviews or talk about events that they attendted around Poway/ San Diego. Below is our inital Figma design for that specific page. \n",
    "\n",
    "<img width=\"300\" alt=\"Image\" src=\"{{site.baseurl}}/images/figma2.png\"/>\n",
    "\n",
    "2. **Tourist Attractions**\n",
    "    - This was added later to our website after the first live review, so we did not make an intial Figma desigm. However, we planned to make this in a table format that listed all the popular toursit attractions in San Diego/ Poway. Users could then filter out results based on what they're interested in. \n",
    "\n",
    "3. **Event Calendar**\n",
    "    - This feature would allow for users to keep track of the events and informations that they come across on our webstie and note it down on the calendar. They can also add other events so they know when they are free or open to schedule something in. \n",
    "\n",
    "<img width=\"463\" alt=\"Image\" src=\"{{site.baseurl}}/images/figma3.png\"/>\n",
    "\n",
    "4. **Live Activity/ Weather Tracker**\n",
    "    - This is a crucial part of our website since it would inclue API connection and also satisfies a large part of the Pilot City requirements. Pilot City said that they wanted the citizens of Poway to learn more about their own community, including data about the traffic, weather, and more. With our machine learning Weather Device we can give uers a place to come check weather predictions for future days before planning our trips around POway City. Another feature, our Live Activity, would also monitor popular tourist attractions around the country and report how busy it is at the current time, or when the location is the most busiest. \n",
    "\n",
    "<img width=\"398\" alt=\"Image\" src=\"{{site.baseurl}}/images/figma4.png\"/>\n",
    "\n",
    "\n",
    "\n",
    "\n",
    "\n"
   ]
  }
 ],
 "metadata": {
  "kernelspec": {
   "display_name": "venv",
   "language": "python",
   "name": "python3"
  },
  "language_info": {
   "name": "python",
   "version": "3.12.5"
  }
 },
 "nbformat": 4,
 "nbformat_minor": 2
}
