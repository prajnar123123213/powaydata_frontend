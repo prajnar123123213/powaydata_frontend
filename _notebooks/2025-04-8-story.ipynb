{
 "cells": [
  {
   "cell_type": "raw",
   "metadata": {},
   "source": [
    "---\n",
    "layout: post\n",
    "categories: [Ideation]\n",
    "title: User Stories, Flow\n",
    "description: Purpose and importance of our project\n",
    "permalink: /story/\n",
    "courses: { csp: {week: 1} }\n",
    "comments: true\n",
    "sticky_rank: 1\n",
    "---"
   ]
  },
  {
   "cell_type": "markdown",
   "metadata": {},
   "source": [
    "<h1> Our Purpose </h1>\n",
    "\n",
    "\n",
    "**Purpose of our Page:**\n",
    "\n",
    "Using Machine Learning, API database/ endpoints, and interactive features, create a social media website that displays information about the City of Poway by increasing public awareness. This can be done by using infographics or minigames that go over traffic patterns, previous weather issues/disasters in Poway, and community resource distribution and city development. Create features that also interest engagement from users by providing interactive calenders and maps to bring the community closer together through pre-planned city events."
   ]
  },
  {
   "cell_type": "markdown",
   "metadata": {},
   "source": [
    "**User Stories**\n",
    "\n",
    "1. I am a new girl in town, and I had no idea where to start. Everything felt unfamiliar—until I found the City of Poway’s website. It helped me learn about upcoming community events, local parks, and even public safety updates. Thanks to it, I found a weekend farmers' market where I met some friendly neighbors. Now, Poway feels more like home.\n",
    "    - This story satisfies our: \n",
    "           - Community Events Calendar – Found local events like the farmers' market.     \n",
    "           - Tourist Attractions Page – Learned about nearby parks and trails.\n",
    "\n",
    "\n",
    "2. I am getting old and I wanted to get involved in my community. I used the City of Poway’s open data portal, which helped me understand ongoing city projects and where the local government needed volunteers. I also need to make sure the weather is sunny and perfect when I go out!\n",
    "    - This story satisfies our:\n",
    "        - Weather ML Prediction Page\n",
    "\n",
    "3. I needed to figure out my commute. I used the City of Poway’s website, which provided real-time updates on road maintenance and construction schedules. Because of this, I found the fastest route to school and avoided a major road closure on my first day. Now, I check the website regularly to stay informed!\n",
    "    - This story satisfies our: \n",
    "        - Ineractive Map\n",
    "        - Live Traffic"
   ]
  }
 ],
 "metadata": {
  "kernelspec": {
   "display_name": "venv",
   "language": "python",
   "name": "python3"
  },
  "language_info": {
   "name": "python",
   "version": "3.12.5"
  }
 },
 "nbformat": 4,
 "nbformat_minor": 2
}
