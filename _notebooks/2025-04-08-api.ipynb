{
 "cells": [
  {
   "cell_type": "raw",
   "metadata": {},
   "source": [
    "---\n",
    "layout: post\n",
    "categories: [Ideation]\n",
    "title: API Plans\n",
    "description: API's that we plan on using\n",
    "permalink: /api/\n",
    "courses: { csp: {week: 1} }\n",
    "comments: true\n",
    "sticky_rank: 1\n",
    "---"
   ]
  },
  {
   "cell_type": "markdown",
   "metadata": {},
   "source": [
    "<h1> What We Finished So Far </h1>\n",
    "\n",
    "1. Weather API: \n",
    "    - This was our Machine Learning component of the website. Using a online databse that we found, we were able to integrat it to our website. \n",
    "\n",
    "<br>\n",
    "\n",
    "2. Posting Feature\n",
    "    - This endpoint allows for users to post their events and expereinces in Poway City. This will be connected to SQLite, allowing for us to use the filtering technique that was specified during class. It also allows us to use the Backend UI Table. \n",
    "\n",
    "\n",
    "<br>\n",
    "\n",
    "<h1> Future Plans </h1>\n",
    "\n",
    "1. Live Activity\n",
    "<img width=\"571\" alt=\"Image\" src=\"{{site.baseurl}}/images/api\"/>\n",
    "\n",
    "- The image show above is an example of the type of API we want in our website. So far, from our research, we initally found what we thought was a free API online, but in the end, we weren't able to use it. Now, we are considereing either scrapping this idea, finding something free, or web scraping, as was suggested by the teacher. \n",
    "\n",
    "\n"
   ]
  }
 ],
 "metadata": {
  "kernelspec": {
   "display_name": "venv",
   "language": "python",
   "name": "python3"
  },
  "language_info": {
   "name": "python",
   "version": "3.12.5"
  }
 },
 "nbformat": 4,
 "nbformat_minor": 2
}
