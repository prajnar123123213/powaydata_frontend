{
 "cells": [
  {
   "cell_type": "raw",
   "metadata": {},
   "source": [
    "---\n",
    "layout: post\n",
    "categories: [Ideation]\n",
    "title: API Plans\n",
    "description: API's that we plan on using\n",
    "permalink: /api/\n",
    "courses: { csp: {week: 1} }\n",
    "comments: true\n",
    "sticky_rank: 1\n",
    "---"
   ]
  },
  {
   "cell_type": "markdown",
   "metadata": {},
   "source": [
    "<h1> What We Finished So Far </h1>\n",
    "\n",
    "1. • Weather Disaster Predict API:\n",
    "- This is the Machine Learning component of our website, designed to predict survival outcomes in San Diego-based natural disasters such as earthquakes, wildfires, and tsunamis. We trained a model using publicly available disaster data and built a Flask-based backend to serve predictions. The API takes user input—such as age, location, weather conditions, and disaster type—and returns the likelihood of survival. It’s fully integrated into our site, providing real-time predictions through a responsive frontend interface.\n",
    "\n",
    "<br>\n",
    "\n",
    "2. • Community Insights:\n",
    "- This feature lets users share what they’re currently doing and highlight local events happening in Poway City. It’s designed to foster community engagement by allowing posts about activities, meetups, or public gatherings. The data is stored in an SQLite database, enabling efficient filtering and search functionality. We’re also integrating it with a backend UI table for easy moderation and management of user-generated content.\n",
    "\n",
    "\n",
    "<br>\n",
    "\n",
    "<h1> Future Plans </h1>\n",
    "\n",
    "1. Live Activity\n",
    "<img width=\"571\" alt=\"Image\" src=\"{{site.baseurl}}/images/api\"/>\n",
    "\n",
    "- The image show above is an example of the type of API we want in our website. So far, from our research, we initally found what we thought was a free API online, but in the end, we weren't able to use it. Now, we are considereing either scrapping this idea, finding something free, or web scraping, as was suggested by the teacher. \n",
    "\n",
    "2. • Live Weather Forecast Integration:\n",
    "\n",
    "- One of our next goals is to add a live weather forecast feature to the site. The backend is already built and tested—it successfully fetches real-time weather data and returns it through our API (confirmed via Postman). The remaining step is to develop the frontend interface that displays the forecast in a clean, user-friendly way. Once integrated, this feature will enhance both the Community Insights and Disaster Prediction sections by giving users up-to-date weather context.\n",
    "\n",
    "<img width=\"900\" alt=\"Image\" src=\"https://github.com/user-attachments/assets/adc3d053-10f4-4718-900d-6ba474a221f6\" />\n",
    "\n",
    "3. • Live Video Feeds of Popular Spots:\n",
    "- Another exciting feature we plan to implement is live video feeds from popular locations around San Diego and Poway. This would give users a real-time look at weather conditions, traffic, and community activity. Whether it’s checking the beach, parks, or city centers, this feature aims to increase engagement and situational awareness. We’re exploring integration options with public webcams and embedding them directly into the site."
   ]
  }
 ],
 "metadata": {
  "kernelspec": {
   "display_name": "venv",
   "language": "python",
   "name": "python3"
  },
  "language_info": {
   "name": "python",
   "version": "3.12.5"
  }
 },
 "nbformat": 4,
 "nbformat_minor": 2
}
